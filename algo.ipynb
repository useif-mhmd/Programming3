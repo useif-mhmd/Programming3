{
  "metadata": {
    "kernelspec": {
      "name": "python",
      "display_name": "Python (Pyodide)",
      "language": "python"
    },
    "language_info": {
      "codemirror_mode": {
        "name": "python",
        "version": 3
      },
      "file_extension": ".py",
      "mimetype": "text/x-python",
      "name": "python",
      "nbconvert_exporter": "python",
      "pygments_lexer": "ipython3",
      "version": "3.8"
    }
  },
  "nbformat_minor": 4,
  "nbformat": 4,
  "cells": [
    {
      "cell_type": "markdown",
      "source": "# 1- selection sort",
      "metadata": {}
    },
    {
      "cell_type": "code",
      "source": "def sel_sort(arr):\n    n=len(arr)\n    for i in range (n):\n        min_idx=i\n        for j in range (i+1, n):\n            if arr[j]< arr[min_idx]:\n                min_idx=j\n        arr[i], arr[min_idx]=arr[min_idx], arr[i]\narr=[2,5,3,9,6,1]\nsel_sort(arr)\nprint(\"sorted array:\", arr)",
      "metadata": {
        "trusted": true
      },
      "outputs": [
        {
          "name": "stdout",
          "text": "sorted array: [1, 2, 3, 5, 6, 9]\n",
          "output_type": "stream"
        }
      ],
      "execution_count": 2
    },
    {
      "cell_type": "markdown",
      "source": "# 2- merge sort",
      "metadata": {}
    },
    {
      "cell_type": "code",
      "source": "def merge_sort(arr):\n    if len(arr)<=1:\n        return arr\n    mid = len(arr)// 2\n    left = merge_sort(arr[:mid])\n    right = merge_sort(arr[mid:])\n    return sorted(left+right)\narr=[2,5,3,9,6,1]\nmerge_sort(arr)\nprint(\"sorted array:\", arr)",
      "metadata": {
        "trusted": true
      },
      "outputs": [
        {
          "name": "stdout",
          "text": "sorted array: [2, 5, 3, 9, 6, 1]\n",
          "output_type": "stream"
        }
      ],
      "execution_count": 3
    },
    {
      "cell_type": "markdown",
      "source": "# 3- quick sort",
      "metadata": {}
    },
    {
      "cell_type": "code",
      "source": "def quick_sort(arr):\n    if len(arr)<=1:\n        return arr\n    pivot=arr[-1]\n    left=[x for x in arr[:-1] if x <= pivot]\n    right=[x for x in arr[:-1] if x > pivot]\n    return quick_sort(left) + [pivot] + quick_sort(right)\narr=[2,5,3,9,6,1]\nquick_sort(arr)\nprint(\"sorted array:\", arr)",
      "metadata": {
        "trusted": true
      },
      "outputs": [
        {
          "name": "stdout",
          "text": "sorted array: [2, 5, 3, 9, 6, 1]\n",
          "output_type": "stream"
        }
      ],
      "execution_count": 5
    },
    {
      "cell_type": "markdown",
      "source": "# 4- BTT inorder",
      "metadata": {}
    },
    {
      "cell_type": "code",
      "source": "class Node:\n    def __init__(self, value):\n        self.value= value\n        self.left= None\n        self.right= None\ndef inorder(root):\n    if root:\n        inorder(root.left)\n        print(root.value, end=\"\")\n        inorder(root.right)\nroot= Node(4)\nroot.left= Node(2)\nroot.right= Node(6)\nroot.left.left= Node(1)\nroot.left.right= Node(3)\nroot.right.left= Node(5)\nroot.right.right= Node(7)\ninorder(root)",
      "metadata": {
        "trusted": true
      },
      "outputs": [
        {
          "name": "stdout",
          "text": "1234567",
          "output_type": "stream"
        }
      ],
      "execution_count": 9
    },
    {
      "cell_type": "markdown",
      "source": "# 5- BTT preorder",
      "metadata": {}
    },
    {
      "cell_type": "code",
      "source": "class Node:\n    def __init__(self, value):\n        self.value= value\n        self.left= None\n        self.right= None\ndef preorder(root):\n    if root:\n        print(root.value, end=\"\")\n        preorder(root.left)\n        preorder(root.right)\nroot= Node(4)\nroot.left= Node(2)\nroot.right= Node(6)\nroot.left.left= Node(1)\nroot.left.right= Node(3)\nroot.right.left= Node(5)\nroot.right.right= Node(7)\npreorder(root)",
      "metadata": {
        "trusted": true
      },
      "outputs": [
        {
          "name": "stdout",
          "text": "4213657",
          "output_type": "stream"
        }
      ],
      "execution_count": 10
    },
    {
      "cell_type": "markdown",
      "source": "# 6- BTT postorder",
      "metadata": {}
    },
    {
      "cell_type": "code",
      "source": "class Node:\n    def __init__(self, value):\n        self.value= value\n        self.left= None\n        self.right= None\ndef postorder(root):\n    if root:\n        postorder(root.left)\n        postorder(root.right)\n        print(root.value, end=\"\")\nroot= Node(4)\nroot.left= Node(2)\nroot.right= Node(6)\nroot.left.left= Node(1)\nroot.left.right= Node(3)\nroot.right.left= Node(5)\nroot.right.right= Node(7)\npostorder(root)        ",
      "metadata": {
        "trusted": true
      },
      "outputs": [
        {
          "name": "stdout",
          "text": "1325764",
          "output_type": "stream"
        }
      ],
      "execution_count": 11
    },
    {
      "cell_type": "markdown",
      "source": "# 7- huffman encoding",
      "metadata": {}
    },
    {
      "cell_type": "code",
      "source": "import heapq\nclass Node:\n    def __init__(self, char, freq, left=None, right=None):\n        self.char, self.freq, self.left, self.right = char, freq, left, right\n    def __lt__(self, other):\n        return self.freq < other.freq\ndef huffman_encoding(data):\n    freq = {char: data.count(char) for char in set(data)}\n    heap = [Node(char, freq[char]) for char in freq]\n    heapq.heapify(heap)\n    while len(heap) > 1:\n        left, right = heapq.heappop(heap), heapq.heappop(heap)\n        heapq.heappush(heap, Node(None, left.freq + right.freq, left, right))\n    def generate_codes(node, code=\"\"):\n        if node.char:\n            return {node.char: code}\n        return {**generate_codes(node.left, code + \"0\"), **generate_codes(node.right, code + \"1\")}\n    codes = generate_codes(heap[0])\n    return ''.join(codes[char] for char in data)\nprint(huffman_encoding(\"useif\"))",
      "metadata": {
        "trusted": true
      },
      "outputs": [
        {
          "name": "stdout",
          "text": "011011111000\n",
          "output_type": "stream"
        }
      ],
      "execution_count": 30
    },
    {
      "cell_type": "markdown",
      "source": "# 8- huffman decoding",
      "metadata": {}
    },
    {
      "cell_type": "code",
      "source": "import heapq\n\nclass Node:\n    def __init__(self, char, freq, left=None, right=None):\n        self.char, self.freq, self.left, self.right = char, freq, left, right\n    def __lt__(self, other):\n        return self.freq < other.freq\n\ndef huffman_encoding(data):\n    freq = {char: data.count(char) for char in set(data)}\n    heap = [Node(char, freq[char]) for char in freq]\n    heapq.heapify(heap)\n    while len(heap) > 1:\n        left, right = heapq.heappop(heap), heapq.heappop(heap)\n        heapq.heappush(heap, Node(None, left.freq + right.freq, left, right))\n    def generate_codes(node, code=\"\"):\n        if node.char:\n            return {node.char: code}\n        return {**generate_codes(node.left, code + \"0\"), **generate_codes(node.right, code + \"1\")}\n    codes = generate_codes(heap[0])\n    encoded = ''.join(codes[char] for char in data)\n    return encoded, heap[0]\n\ndef huffman_decoding(encoded, root):\n    node = root\n    decoded = []\n    for bit in encoded:\n        node = node.left if bit == \"0\" else node.right\n        if node.char:\n            decoded.append(node.char)\n            node = root\n    return ''.join(decoded)\n\ndata = \"useif\"\nencoded, tree = huffman_encoding(data)\nprint(f\"Encoded: {encoded}\")\ndecoded = huffman_decoding(encoded, tree)\nprint(f\"Decoded: {decoded}\")\n",
      "metadata": {
        "trusted": true
      },
      "outputs": [
        {
          "name": "stdout",
          "text": "Encoded: 011011111000\nDecoded: useif\n",
          "output_type": "stream"
        }
      ],
      "execution_count": 31
    },
    {
      "cell_type": "markdown",
      "source": " # Dynamic programming (LCS)",
      "metadata": {}
    },
    {
      "cell_type": "code",
      "source": "def lcs(x,y):\n    m,n=len(x),len(y)\n    dp=[[0]*(n+1) for _ in range (m+1)]\n    for i in range (1, m+1):\n        for j in range (1, n+1):\n            if x[i-1]==y[j-1]:\n                dp[i][j]=dp[i-1][j-1]+1\n            else:\n                dp[i][j]=max(dp[i-1][j],dp[i][j-1])\n    return dp[m][n]\nx=\"AGGTAB\"\ny=\"GXTXAYB\"\nprint(\"LCS=\", lcs(x,y))",
      "metadata": {
        "trusted": true
      },
      "outputs": [
        {
          "name": "stdout",
          "text": "LCS= 4\n",
          "output_type": "stream"
        }
      ],
      "execution_count": 40
    }
  ]
}